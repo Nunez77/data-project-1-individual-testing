{
 "cells": [
  {
   "cell_type": "code",
   "execution_count": 1,
   "metadata": {},
   "outputs": [],
   "source": [
    "# Dependencies\n",
    "import spotipy\n",
    "from spotipy.oauth2 import SpotifyClientCredentials\n",
    "import pandas as pd\n",
    "import requests\n",
    "import numpy as np\n",
    "import matplotlib.pyplot as plt"
   ]
  },
  {
   "cell_type": "code",
   "execution_count": 2,
   "metadata": {},
   "outputs": [],
   "source": [
    "# Credentials\n",
    "from config import clientID, clientSEC\n",
    "client_credentials_manager = SpotifyClientCredentials(client_id=clientID, client_secret=clientSEC)\n",
    "sp = spotipy.Spotify(client_credentials_manager=client_credentials_manager)\n",
    "AUTH_URL = 'https://accounts.spotify.com/api/token'"
   ]
  },
  {
   "cell_type": "code",
   "execution_count": null,
   "metadata": {},
   "outputs": [],
   "source": [
    "# POST\n",
    "auth_response = requests.post(AUTH_URL, {\n",
    "    'grant_type': 'client_credentials',\n",
    "    'client_id': client_id,\n",
    "    'client_secret': client_secret,\n",
    "})\n",
    "\n",
    "# Convert the response to JSON\n",
    "auth_response_data = auth_response.json()\n",
    "\n",
    "# Save the access token\n",
    "access_token = auth_response_data['access_token']\n",
    "\n",
    "headers = {\n",
    "    'Authorization': 'Bearer {token}'.format(token=access_token)\n",
    "}\n",
    "\n",
    "BASE_URL = 'https://api.spotify.com/v1/'"
   ]
  },
  {
   "cell_type": "code",
   "execution_count": null,
   "metadata": {},
   "outputs": [],
   "source": [
    "# Date Ranges\n",
    "starting_month = 4\n",
    "ending_month = 4\n",
    "starting_year = 2019\n",
    "ending_year = 2021\n",
    "years = ending_year - starting_year\n",
    "months = (ending_month-starting_month) + years*12"
   ]
  },
  {
   "cell_type": "code",
   "execution_count": null,
   "metadata": {},
   "outputs": [],
   "source": [
    "# country use an ISO code from below\n",
    "country = \"IT\" # Italy\n",
    "\n",
    "\"\"\"\n",
    "['AD', 'AR', 'AU', 'AT', 'BE', 'BO', 'BR', 'BG', 'CA', 'CL', 'CO', 'CR', 'CY', 'CZ', 'DK', 'DO', 'EC', 'SV', 'EE', 'FI'\n",
    ", 'FR','DE', 'GR', 'GT', 'HN', 'HK', 'HU', 'IS', 'ID', 'IE', 'IT', 'JP', 'LV', 'LI', 'LT', 'LU', 'MY', 'MT', 'MX', 'MC'\n",
    ", 'NL', 'NZ','NI', 'NO', 'PA', 'PY', 'PE', 'PH', 'PL', 'PT', 'SG', 'ES', 'SK', 'SE', 'CH', 'TW', 'TR', 'GB', 'US', 'UY']\n",
    "\"\"\""
   ]
  },
  {
   "cell_type": "code",
   "execution_count": null,
   "metadata": {},
   "outputs": [],
   "source": [
    "df_list = []\n",
    "for l in range(years):\n",
    "    # Initialize DataSet\n",
    "    df = pd.DataFrame(np.zeros([12, 11]), columns=[\"danceability\", \"energy\",\n",
    "                                            \"key\", \"loudness\", \"speechiness\", \"acousticness\",\n",
    "                                            \"instrumentalness\", \"liveness\",\n",
    "                                            \"valence\", \"tempo\", \"tracks\"])\n",
    "\n",
    "    for i in range(1): # Sample of 50 tracks per loop\n",
    "        track_results = sp.search(market=country, q='year:' + str(starting_year + l), type='track', limit=50,offset=i)\n",
    "        for track in track_results['tracks']['items']:\n",
    "\n",
    "            # Make sure results are within timeline\n",
    "            album = sp.album(track[\"album\"][\"external_urls\"][\"spotify\"])\n",
    "            try:\n",
    "                m = int(album[\"release_date\"].split(\"-\")[1])\n",
    "            except IndexError:\n",
    "                continue # When no month dates\n",
    "\n",
    "            #print(track)\n",
    "\n",
    "            # Track ID from the URI\n",
    "            track_id = track[\"id\"]#'6y0igZArWVi6Iz0rj35c1Y'\n",
    "\n",
    "            # actual GET request with proper header\n",
    "            r = requests.get(BASE_URL + 'audio-features/' + track_id, headers=headers)\n",
    "            #print(r.text)\n",
    "\n",
    "            for i in df.columns:\n",
    "\n",
    "                try:\n",
    "                    a = float(r.text.split(i + '\" : ')[1].split(\",\")[0])\n",
    "                except:\n",
    "                    continue\n",
    "                df.loc[m-1][i] += a\n",
    "            df.loc[m-1][10] += 1\n",
    "    df_list.append(df)\n",
    "\n",
    "\n",
    "df = pd.concat(df_list)\n",
    "print(df)\n",
    "for col in df.columns:\n",
    "    c = df[col]/df[\"tracks\"]\n",
    "\n",
    "    # refigure mean of data to 0\n",
    "    c = abs(c)\n",
    "    while np.mean(c) > 10 or max(c) > 8:\n",
    "        c = c/10\n",
    "\n",
    "    plt.plot(range(12*len(df_list)), c)\n",
    "\n",
    "plt.legend(df.columns)\n",
    "plt.show()\n",
    "\n"
   ]
  }
 ],
 "metadata": {
  "kernelspec": {
   "display_name": "Python [conda env:root] *",
   "language": "python",
   "name": "conda-root-py"
  },
  "language_info": {
   "codemirror_mode": {
    "name": "ipython",
    "version": 3
   },
   "file_extension": ".py",
   "mimetype": "text/x-python",
   "name": "python",
   "nbconvert_exporter": "python",
   "pygments_lexer": "ipython3",
   "version": "3.8.5"
  }
 },
 "nbformat": 4,
 "nbformat_minor": 4
}
