{
 "cells": [
  {
   "cell_type": "code",
   "execution_count": 1,
   "metadata": {},
   "outputs": [],
   "source": [
    "# Dependencies\n",
    "import spotipy\n",
    "from spotipy.oauth2 import SpotifyClientCredentials\n",
    "import pandas as pd\n",
    "import requests\n",
    "import numpy as np\n",
    "import matplotlib.pyplot as plt"
   ]
  },
  {
   "cell_type": "code",
   "execution_count": 2,
   "metadata": {},
   "outputs": [],
   "source": [
    "# Credentials\n",
    "from config import clientID, clientSEC\n",
    "client_credentials_manager = SpotifyClientCredentials(client_id=clientID, client_secret=clientSEC)\n",
    "sp = spotipy.Spotify(client_credentials_manager=client_credentials_manager)\n",
    "AUTH_URL = 'https://accounts.spotify.com/api/token'"
   ]
  },
  {
   "cell_type": "code",
   "execution_count": null,
   "metadata": {},
   "outputs": [],
   "source": [
    "# POST\n",
    "auth_response = requests.post(AUTH_URL, {\n",
    "    'grant_type': 'client_credentials',\n",
    "    'client_id': client_id,\n",
    "    'client_secret': client_secret,\n",
    "})\n",
    "\n",
    "# Convert the response to JSON\n",
    "auth_response_data = auth_response.json()\n",
    "\n",
    "# Save the access token\n",
    "access_token = auth_response_data['access_token']\n",
    "\n",
    "headers = {\n",
    "    'Authorization': 'Bearer {token}'.format(token=access_token)\n",
    "}\n",
    "\n",
    "BASE_URL = 'https://api.spotify.com/v1/'"
   ]
  },
  {
   "cell_type": "code",
   "execution_count": null,
   "metadata": {},
   "outputs": [],
   "source": [
    "# Date Ranges\n",
    "starting_month = 4\n",
    "ending_month = 4\n",
    "starting_year = 2019\n",
    "ending_year = 2021\n",
    "years = ending_year - starting_year\n",
    "months = (ending_month-starting_month) + years*12"
   ]
  },
  {
   "cell_type": "code",
   "execution_count": null,
   "metadata": {},
   "outputs": [],
   "source": [
    "# country use an ISO code from below\n",
    "country = \"IT\" # Italy\n",
    "\n",
    "\"\"\"\n",
    "['AD', 'AR', 'AU', 'AT', 'BE', 'BO', 'BR', 'BG', 'CA', 'CL', 'CO', 'CR', 'CY', 'CZ', 'DK', 'DO', 'EC', 'SV', 'EE', 'FI'\n",
    ", 'FR','DE', 'GR', 'GT', 'HN', 'HK', 'HU', 'IS', 'ID', 'IE', 'IT', 'JP', 'LV', 'LI', 'LT', 'LU', 'MY', 'MT', 'MX', 'MC'\n",
    ", 'NL', 'NZ','NI', 'NO', 'PA', 'PY', 'PE', 'PH', 'PL', 'PT', 'SG', 'ES', 'SK', 'SE', 'CH', 'TW', 'TR', 'GB', 'US', 'UY']\n",
    "\"\"\""
   ]
  },
  {
   "cell_type": "code",
   "execution_count": null,
   "metadata": {},
   "outputs": [],
   "source": [
    "df_list = []\n",
    "for l in range(years):\n",
    "    # Initialize DataSet\n",
    "    df = pd.DataFrame(np.zeros([12, 11]), columns=[\"danceability\", \"energy\",\n",
    "                                            \"key\", \"loudness\", \"speechiness\", \"acousticness\",\n",
    "                                            \"instrumentalness\", \"liveness\",\n",
    "                                            \"valence\", \"tempo\", \"tracks\"])\n",
    "\n",
    "    for i in range(1): # Sample of 50 tracks per loop\n",
    "        track_results = sp.search(market=country, q='year:' + str(starting_year + l), type='track', limit=50,offset=i)\n",
    "        for track in track_results['tracks']['items']:\n",
    "\n",
    "            # ensure within timeline\n",
    "\t\t\talbum = sp.album(track[\"album\"][\"external_urls\"][\"spotify\"])\n",
    "\t\t\ttry:\n",
    "\t\t\t\tm = int(album[\"release_date\"].split(\"-\")[1])\n",
    "\t\t\texcept IndexError:\n",
    "\t\t\t\tcontinue # sometimes there are no month dates\n",
    "\n",
    "\t\t\t#print(track)\n",
    "\n",
    "\t\t\t# Track ID from the URI\n",
    "\t\t\ttrack_id = track[\"id\"]#'6y0igZArWVi6Iz0rj35c1Y'\n",
    "\n",
    "\t\t\t# actual GET request with proper header\n",
    "\t\t\tr = requests.get(BASE_URL + 'audio-features/' + track_id, headers=headers)\n",
    "\t\t\t#print(r.text)\n",
    "\n",
    "\t\t\tfor i in df.columns:\n",
    "\n",
    "\t\t\t\ttry:\n",
    "\t\t\t\t\ta = float(r.text.split(i + '\" : ')[1].split(\",\")[0])\n",
    "\t\t\t\texcept:\n",
    "\t\t\t\t\tcontinue\n",
    "\t\t\t\tdf.loc[m-1][i] += a\n",
    "\t\t\tdf.loc[m-1][10] += 1\n",
    "\tdf_list.append(df)\n",
    "\n",
    "\n",
    "\n",
    "\n",
    "\n",
    "\n",
    "df = pd.concat(df_list)\n",
    "print(df)\n",
    "for col in df.columns:\n",
    "\tc = df[col]/df[\"tracks\"]\n",
    "\n",
    "\t# refigure mean of data to 0\n",
    "\tc = abs(c)\n",
    "\twhile np.mean(c) > 10 or max(c) > 8:\n",
    "\t\tc = c/10\n",
    "\n",
    "\tplt.plot(range(12*len(df_list)), c)\n",
    "\n",
    "plt.legend(df.columns)\n",
    "plt.show()\n",
    "\n"
   ]
  }
 ],
 "metadata": {
  "kernelspec": {
   "display_name": "Python [conda env:root] *",
   "language": "python",
   "name": "conda-root-py"
  },
  "language_info": {
   "codemirror_mode": {
    "name": "ipython",
    "version": 3
   },
   "file_extension": ".py",
   "mimetype": "text/x-python",
   "name": "python",
   "nbconvert_exporter": "python",
   "pygments_lexer": "ipython3",
   "version": "3.8.5"
  }
 },
 "nbformat": 4,
 "nbformat_minor": 4
}
