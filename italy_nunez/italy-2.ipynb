{
 "cells": [
  {
   "cell_type": "code",
   "execution_count": 1,
   "metadata": {},
   "outputs": [],
   "source": [
    "# Dependencies\n",
    "import matplotlib.pyplot as plt\n",
    "import pandas as pd\n",
    "import numpy as np\n",
    "import requests\n",
    "import json\n",
    "import re, glob\n",
    "import os, sys\n",
    "from scipy import stats\n",
    "\n",
    "# Spotipy\n",
    "import spotipy\n",
    "from spotipy.oauth2 import SpotifyClientCredentials\n",
    "from config import clientID, clientSEC\n"
   ]
  },
  {
   "cell_type": "code",
   "execution_count": 2,
   "metadata": {},
   "outputs": [],
   "source": [
    "# Spotify API info\n",
    "client_credentials_manager = SpotifyClientCredentials(client_id=clientID,client_secret=clientSEC)\n",
    "sp = spotipy.Spotify(client_credentials_manager=client_credentials_manager)"
   ]
  },
  {
   "cell_type": "code",
   "execution_count": 3,
   "metadata": {},
   "outputs": [
    {
     "data": {
      "text/plain": [
       "\"\\n['AD', 'AR', 'AU', 'AT', 'BE', 'BO', 'BR', 'BG', 'CA', 'CL', 'CO', 'CR', 'CY', 'CZ', 'DK', 'DO', 'EC', 'SV', 'EE', 'FI'\\n, 'FR','DE', 'GR', 'GT', 'HN', 'HK', 'HU', 'IS', 'ID', 'IE', 'IT', 'JP', 'LV', 'LI', 'LT', 'LU', 'MY', 'MT', 'MX', 'MC'\\n, 'NL', 'NZ','NI', 'NO', 'PA', 'PY', 'PE', 'PH', 'PL', 'PT', 'SG', 'ES', 'SK', 'SE', 'CH', 'TW', 'TR', 'GB', 'US', 'UY']\\n\""
      ]
     },
     "execution_count": 3,
     "metadata": {},
     "output_type": "execute_result"
    }
   ],
   "source": [
    "# Time Setup  (will loop later)\n",
    "starting_month = 4\n",
    "ending_month = 4\n",
    "starting_year = 2019\n",
    "ending_year = 2021\n",
    "years = ending_year - starting_year\n",
    "\n",
    "# Define country with an ISO code\n",
    "country = \"IT\" # Italy\n",
    "\n",
    "\"\"\"\n",
    "['AD', 'AR', 'AU', 'AT', 'BE', 'BO', 'BR', 'BG', 'CA', 'CL', 'CO', 'CR', 'CY', 'CZ', 'DK', 'DO', 'EC', 'SV', 'EE', 'FI'\n",
    ", 'FR','DE', 'GR', 'GT', 'HN', 'HK', 'HU', 'IS', 'ID', 'IE', 'IT', 'JP', 'LV', 'LI', 'LT', 'LU', 'MY', 'MT', 'MX', 'MC'\n",
    ", 'NL', 'NZ','NI', 'NO', 'PA', 'PY', 'PE', 'PH', 'PL', 'PT', 'SG', 'ES', 'SK', 'SE', 'CH', 'TW', 'TR', 'GB', 'US', 'UY']\n",
    "\"\"\""
   ]
  },
  {
   "cell_type": "code",
   "execution_count": 4,
   "metadata": {},
   "outputs": [],
   "source": [
    "# Initial DataSet\n",
    "df = pd.DataFrame([[\"latin trap\", 0]], columns=[\"Genre\", \"Popularity\"])"
   ]
  },
  {
   "cell_type": "code",
   "execution_count": null,
   "metadata": {},
   "outputs": [],
   "source": [
    "# Variables\n",
    "# Sample Size per Loop\n",
    "# s_size = 50\n",
    "\n",
    "# Script\n",
    "genres_within = []\n",
    "for l in range(years):\n",
    "    for i in range(1): # This loop gets a sample of 50 songs per loop\n",
    "        track_results = sp.search(market=country, q='year:' + str(starting_year + l), type='track', limit=50,offset=i)\n",
    "        for track in track_results['tracks']['items']:\n",
    "\n",
    "            # Make sure the result is within the timeline\n",
    "            album = sp.album(track[\"album\"][\"external_urls\"][\"spotify\"])\n",
    "            try:\n",
    "                if int(album[\"release_date\"].split(\"-\")[1]) < starting_month and int(album[\"release_date\"].split(\"-\")[0]) == starting_year:\n",
    "                    continue\n",
    "                if int(album[\"release_date\"].split(\"-\")[1]) > ending_month and int(album[\"release_date\"].split(\"-\")[0]) == ending_year:\n",
    "                    continue\n",
    "            except IndexError:\n",
    "                continue # sometimes there are no month dates\n",
    "\n",
    "\n",
    "            # Genre has to be extracted from artist\n",
    "            artist = sp.artist(track[\"artists\"][0][\"external_urls\"][\"spotify\"])\n",
    "            for genre in artist[\"genres\"]:\n",
    "                if len(df.loc[df[\"genre\"] == genre]) == 0:\n",
    "                    df = pd.concat(\n",
    "                        [pd.DataFrame([[genre, track[\"popularity\"]]], columns=[\"genre\", \"total popularity\"]), df],\n",
    "                        ignore_index=True) # if new genre append to dataset\n",
    "                df.loc[df[\"genre\"] == genre, [\"total popularity\"]] += track[\"popularity\"] # add popularity to count\n",
    "\n",
    "df.to_csv(\"genre_data.csv\") # Save to CSV\n",
    "print(df.loc[df[\"total popularity\"] > max(df[\"total popularity\"])]) # Print most popular genre\n",
    "\n"
   ]
  }
 ],
 "metadata": {
  "kernelspec": {
   "display_name": "Python [conda env:root] *",
   "language": "python",
   "name": "conda-root-py"
  },
  "language_info": {
   "codemirror_mode": {
    "name": "ipython",
    "version": 3
   },
   "file_extension": ".py",
   "mimetype": "text/x-python",
   "name": "python",
   "nbconvert_exporter": "python",
   "pygments_lexer": "ipython3",
   "version": "3.8.5"
  }
 },
 "nbformat": 4,
 "nbformat_minor": 4
}
